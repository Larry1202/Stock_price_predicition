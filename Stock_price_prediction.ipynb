{
  "nbformat": 4,
  "nbformat_minor": 0,
  "metadata": {
    "colab": {
      "name": "Untitled3.ipynb",
      "provenance": [],
      "collapsed_sections": []
    },
    "kernelspec": {
      "name": "python3",
      "display_name": "Python 3"
    },
    "language_info": {
      "name": "python"
    }
  },
  "cells": [
    {
      "cell_type": "markdown",
      "metadata": {
        "id": "zdV6DkVJ00nI"
      },
      "source": [
        "## **Stock Price Prediction using Time Series Analysis**"
      ]
    },
    {
      "cell_type": "markdown",
      "metadata": {
        "id": "hXnLgwCw1Gb-"
      },
      "source": [
        "### **First I have to import the required Dataset from available sources. I have pasted a Dataset of BAJAJFINSV stock in the directory. We have to import the csv file into the program.**"
      ]
    },
    {
      "cell_type": "code",
      "metadata": {
        "id": "twq_3CkE0vCn"
      },
      "source": [
        "import pandas as pd\n",
        "import numpy as np"
      ],
      "execution_count": 24,
      "outputs": []
    },
    {
      "cell_type": "code",
      "metadata": {
        "colab": {
          "base_uri": "https://localhost:8080/",
          "height": 198
        },
        "id": "zSVPKRIE17If",
        "outputId": "fa03064c-368f-4b5f-ab1e-2de1beaa9448"
      },
      "source": [
        "df = pd.read_csv(\"/content/BAJFINANCE.csv\")\n",
        "df.head()"
      ],
      "execution_count": 25,
      "outputs": [
        {
          "output_type": "execute_result",
          "data": {
            "text/html": [
              "<div>\n",
              "<style scoped>\n",
              "    .dataframe tbody tr th:only-of-type {\n",
              "        vertical-align: middle;\n",
              "    }\n",
              "\n",
              "    .dataframe tbody tr th {\n",
              "        vertical-align: top;\n",
              "    }\n",
              "\n",
              "    .dataframe thead th {\n",
              "        text-align: right;\n",
              "    }\n",
              "</style>\n",
              "<table border=\"1\" class=\"dataframe\">\n",
              "  <thead>\n",
              "    <tr style=\"text-align: right;\">\n",
              "      <th></th>\n",
              "      <th>Date</th>\n",
              "      <th>Symbol</th>\n",
              "      <th>Series</th>\n",
              "      <th>Prev Close</th>\n",
              "      <th>Open</th>\n",
              "      <th>High</th>\n",
              "      <th>Low</th>\n",
              "      <th>Last</th>\n",
              "      <th>Close</th>\n",
              "      <th>VWAP</th>\n",
              "      <th>Volume</th>\n",
              "      <th>Turnover</th>\n",
              "      <th>Trades</th>\n",
              "      <th>Deliverable Volume</th>\n",
              "      <th>%Deliverble</th>\n",
              "    </tr>\n",
              "  </thead>\n",
              "  <tbody>\n",
              "    <tr>\n",
              "      <th>0</th>\n",
              "      <td>2000-01-03</td>\n",
              "      <td>BAJAUTOFIN</td>\n",
              "      <td>EQ</td>\n",
              "      <td>46.95</td>\n",
              "      <td>49.45</td>\n",
              "      <td>50.75</td>\n",
              "      <td>46.5</td>\n",
              "      <td>50.75</td>\n",
              "      <td>50.75</td>\n",
              "      <td>50.05</td>\n",
              "      <td>7600</td>\n",
              "      <td>3.803800e+10</td>\n",
              "      <td>NaN</td>\n",
              "      <td>NaN</td>\n",
              "      <td>NaN</td>\n",
              "    </tr>\n",
              "    <tr>\n",
              "      <th>1</th>\n",
              "      <td>2000-01-04</td>\n",
              "      <td>BAJAUTOFIN</td>\n",
              "      <td>EQ</td>\n",
              "      <td>50.75</td>\n",
              "      <td>53.20</td>\n",
              "      <td>53.20</td>\n",
              "      <td>47.9</td>\n",
              "      <td>48.00</td>\n",
              "      <td>48.10</td>\n",
              "      <td>48.56</td>\n",
              "      <td>5000</td>\n",
              "      <td>2.428000e+10</td>\n",
              "      <td>NaN</td>\n",
              "      <td>NaN</td>\n",
              "      <td>NaN</td>\n",
              "    </tr>\n",
              "    <tr>\n",
              "      <th>2</th>\n",
              "      <td>2000-01-05</td>\n",
              "      <td>BAJAUTOFIN</td>\n",
              "      <td>EQ</td>\n",
              "      <td>48.10</td>\n",
              "      <td>46.55</td>\n",
              "      <td>47.40</td>\n",
              "      <td>44.6</td>\n",
              "      <td>44.60</td>\n",
              "      <td>44.60</td>\n",
              "      <td>45.47</td>\n",
              "      <td>3500</td>\n",
              "      <td>1.591450e+10</td>\n",
              "      <td>NaN</td>\n",
              "      <td>NaN</td>\n",
              "      <td>NaN</td>\n",
              "    </tr>\n",
              "    <tr>\n",
              "      <th>3</th>\n",
              "      <td>2000-01-06</td>\n",
              "      <td>BAJAUTOFIN</td>\n",
              "      <td>EQ</td>\n",
              "      <td>44.60</td>\n",
              "      <td>43.50</td>\n",
              "      <td>46.00</td>\n",
              "      <td>42.1</td>\n",
              "      <td>46.00</td>\n",
              "      <td>45.25</td>\n",
              "      <td>44.43</td>\n",
              "      <td>6200</td>\n",
              "      <td>2.754750e+10</td>\n",
              "      <td>NaN</td>\n",
              "      <td>NaN</td>\n",
              "      <td>NaN</td>\n",
              "    </tr>\n",
              "    <tr>\n",
              "      <th>4</th>\n",
              "      <td>2000-01-07</td>\n",
              "      <td>BAJAUTOFIN</td>\n",
              "      <td>EQ</td>\n",
              "      <td>45.25</td>\n",
              "      <td>48.00</td>\n",
              "      <td>48.00</td>\n",
              "      <td>42.0</td>\n",
              "      <td>42.90</td>\n",
              "      <td>42.90</td>\n",
              "      <td>44.44</td>\n",
              "      <td>3500</td>\n",
              "      <td>1.555550e+10</td>\n",
              "      <td>NaN</td>\n",
              "      <td>NaN</td>\n",
              "      <td>NaN</td>\n",
              "    </tr>\n",
              "  </tbody>\n",
              "</table>\n",
              "</div>"
            ],
            "text/plain": [
              "         Date      Symbol Series  ...  Trades  Deliverable Volume  %Deliverble\n",
              "0  2000-01-03  BAJAUTOFIN     EQ  ...     NaN                 NaN          NaN\n",
              "1  2000-01-04  BAJAUTOFIN     EQ  ...     NaN                 NaN          NaN\n",
              "2  2000-01-05  BAJAUTOFIN     EQ  ...     NaN                 NaN          NaN\n",
              "3  2000-01-06  BAJAUTOFIN     EQ  ...     NaN                 NaN          NaN\n",
              "4  2000-01-07  BAJAUTOFIN     EQ  ...     NaN                 NaN          NaN\n",
              "\n",
              "[5 rows x 15 columns]"
            ]
          },
          "metadata": {
            "tags": []
          },
          "execution_count": 25
        }
      ]
    },
    {
      "cell_type": "markdown",
      "metadata": {
        "id": "5bsRGNkk2axu"
      },
      "source": [
        "### **I have to set the 'Date' Column from the dataset as an Index of the csv file.**"
      ]
    },
    {
      "cell_type": "code",
      "metadata": {
        "colab": {
          "base_uri": "https://localhost:8080/",
          "height": 228
        },
        "id": "PVDO_WVV2ETA",
        "outputId": "e411fd95-d1fc-4b3c-e483-f5aa2697fd3f"
      },
      "source": [
        "df.set_index('Date',inplace = True)\n",
        "df.head()"
      ],
      "execution_count": 26,
      "outputs": [
        {
          "output_type": "execute_result",
          "data": {
            "text/html": [
              "<div>\n",
              "<style scoped>\n",
              "    .dataframe tbody tr th:only-of-type {\n",
              "        vertical-align: middle;\n",
              "    }\n",
              "\n",
              "    .dataframe tbody tr th {\n",
              "        vertical-align: top;\n",
              "    }\n",
              "\n",
              "    .dataframe thead th {\n",
              "        text-align: right;\n",
              "    }\n",
              "</style>\n",
              "<table border=\"1\" class=\"dataframe\">\n",
              "  <thead>\n",
              "    <tr style=\"text-align: right;\">\n",
              "      <th></th>\n",
              "      <th>Symbol</th>\n",
              "      <th>Series</th>\n",
              "      <th>Prev Close</th>\n",
              "      <th>Open</th>\n",
              "      <th>High</th>\n",
              "      <th>Low</th>\n",
              "      <th>Last</th>\n",
              "      <th>Close</th>\n",
              "      <th>VWAP</th>\n",
              "      <th>Volume</th>\n",
              "      <th>Turnover</th>\n",
              "      <th>Trades</th>\n",
              "      <th>Deliverable Volume</th>\n",
              "      <th>%Deliverble</th>\n",
              "    </tr>\n",
              "    <tr>\n",
              "      <th>Date</th>\n",
              "      <th></th>\n",
              "      <th></th>\n",
              "      <th></th>\n",
              "      <th></th>\n",
              "      <th></th>\n",
              "      <th></th>\n",
              "      <th></th>\n",
              "      <th></th>\n",
              "      <th></th>\n",
              "      <th></th>\n",
              "      <th></th>\n",
              "      <th></th>\n",
              "      <th></th>\n",
              "      <th></th>\n",
              "    </tr>\n",
              "  </thead>\n",
              "  <tbody>\n",
              "    <tr>\n",
              "      <th>2000-01-03</th>\n",
              "      <td>BAJAUTOFIN</td>\n",
              "      <td>EQ</td>\n",
              "      <td>46.95</td>\n",
              "      <td>49.45</td>\n",
              "      <td>50.75</td>\n",
              "      <td>46.5</td>\n",
              "      <td>50.75</td>\n",
              "      <td>50.75</td>\n",
              "      <td>50.05</td>\n",
              "      <td>7600</td>\n",
              "      <td>3.803800e+10</td>\n",
              "      <td>NaN</td>\n",
              "      <td>NaN</td>\n",
              "      <td>NaN</td>\n",
              "    </tr>\n",
              "    <tr>\n",
              "      <th>2000-01-04</th>\n",
              "      <td>BAJAUTOFIN</td>\n",
              "      <td>EQ</td>\n",
              "      <td>50.75</td>\n",
              "      <td>53.20</td>\n",
              "      <td>53.20</td>\n",
              "      <td>47.9</td>\n",
              "      <td>48.00</td>\n",
              "      <td>48.10</td>\n",
              "      <td>48.56</td>\n",
              "      <td>5000</td>\n",
              "      <td>2.428000e+10</td>\n",
              "      <td>NaN</td>\n",
              "      <td>NaN</td>\n",
              "      <td>NaN</td>\n",
              "    </tr>\n",
              "    <tr>\n",
              "      <th>2000-01-05</th>\n",
              "      <td>BAJAUTOFIN</td>\n",
              "      <td>EQ</td>\n",
              "      <td>48.10</td>\n",
              "      <td>46.55</td>\n",
              "      <td>47.40</td>\n",
              "      <td>44.6</td>\n",
              "      <td>44.60</td>\n",
              "      <td>44.60</td>\n",
              "      <td>45.47</td>\n",
              "      <td>3500</td>\n",
              "      <td>1.591450e+10</td>\n",
              "      <td>NaN</td>\n",
              "      <td>NaN</td>\n",
              "      <td>NaN</td>\n",
              "    </tr>\n",
              "    <tr>\n",
              "      <th>2000-01-06</th>\n",
              "      <td>BAJAUTOFIN</td>\n",
              "      <td>EQ</td>\n",
              "      <td>44.60</td>\n",
              "      <td>43.50</td>\n",
              "      <td>46.00</td>\n",
              "      <td>42.1</td>\n",
              "      <td>46.00</td>\n",
              "      <td>45.25</td>\n",
              "      <td>44.43</td>\n",
              "      <td>6200</td>\n",
              "      <td>2.754750e+10</td>\n",
              "      <td>NaN</td>\n",
              "      <td>NaN</td>\n",
              "      <td>NaN</td>\n",
              "    </tr>\n",
              "    <tr>\n",
              "      <th>2000-01-07</th>\n",
              "      <td>BAJAUTOFIN</td>\n",
              "      <td>EQ</td>\n",
              "      <td>45.25</td>\n",
              "      <td>48.00</td>\n",
              "      <td>48.00</td>\n",
              "      <td>42.0</td>\n",
              "      <td>42.90</td>\n",
              "      <td>42.90</td>\n",
              "      <td>44.44</td>\n",
              "      <td>3500</td>\n",
              "      <td>1.555550e+10</td>\n",
              "      <td>NaN</td>\n",
              "      <td>NaN</td>\n",
              "      <td>NaN</td>\n",
              "    </tr>\n",
              "  </tbody>\n",
              "</table>\n",
              "</div>"
            ],
            "text/plain": [
              "                Symbol Series  ...  Deliverable Volume  %Deliverble\n",
              "Date                           ...                                 \n",
              "2000-01-03  BAJAUTOFIN     EQ  ...                 NaN          NaN\n",
              "2000-01-04  BAJAUTOFIN     EQ  ...                 NaN          NaN\n",
              "2000-01-05  BAJAUTOFIN     EQ  ...                 NaN          NaN\n",
              "2000-01-06  BAJAUTOFIN     EQ  ...                 NaN          NaN\n",
              "2000-01-07  BAJAUTOFIN     EQ  ...                 NaN          NaN\n",
              "\n",
              "[5 rows x 14 columns]"
            ]
          },
          "metadata": {
            "tags": []
          },
          "execution_count": 26
        }
      ]
    },
    {
      "cell_type": "markdown",
      "metadata": {
        "id": "7VnJEc7S2nev"
      },
      "source": [
        "### **Let's first see the target variable VWAP (Volume Weighted Average Price) over time**"
      ]
    },
    {
      "cell_type": "code",
      "metadata": {
        "colab": {
          "base_uri": "https://localhost:8080/",
          "height": 300
        },
        "id": "mYTWLTBH2REG",
        "outputId": "d9de5948-2659-496b-f866-7b566796d345"
      },
      "source": [
        "df['VWAP'].plot()"
      ],
      "execution_count": 27,
      "outputs": [
        {
          "output_type": "execute_result",
          "data": {
            "text/plain": [
              "<matplotlib.axes._subplots.AxesSubplot at 0x7f99bd2cc390>"
            ]
          },
          "metadata": {
            "tags": []
          },
          "execution_count": 27
        },
        {
          "output_type": "display_data",
          "data": {
            "image/png": "[encoded data removed]",
            "text/plain": [
              "<Figure size 432x288 with 1 Axes>"
            ]
          },
          "metadata": {
            "tags": [],
            "needs_background": "light"
          }
        }
      ]
    },
    {
      "cell_type": "markdown",
      "metadata": {
        "id": "HVOgM37y3noQ"
      },
      "source": [
        "# **Let's Pre-Process the imported data**"
      ]
    },
    {
      "cell_type": "markdown",
      "metadata": {
        "id": "Gow66B9j31Ef"
      },
      "source": [
        "### **Let us see the number of datas available and the number of different attribute (Columns).**"
      ]
    },
    {
      "cell_type": "code",
      "metadata": {
        "colab": {
          "base_uri": "https://localhost:8080/"
        },
        "id": "7gey-_ZN28ZJ",
        "outputId": "3f154221-6e32-4e3e-e6da-3139b60137ae"
      },
      "source": [
        "df.shape"
      ],
      "execution_count": 28,
      "outputs": [
        {
          "output_type": "execute_result",
          "data": {
            "text/plain": [
              "(5070, 14)"
            ]
          },
          "metadata": {
            "tags": []
          },
          "execution_count": 28
        }
      ]
    },
    {
      "cell_type": "markdown",
      "metadata": {
        "id": "85riC7ln8qvC"
      },
      "source": [
        "**As we can see, there are total 5070 data samples and 14 columns. This is not a lot of data comparing with the real world data sets. There maybe a scenario where some datas are unavailable or blank. Let us first find out the number of blank data samples.**"
      ]
    },
    {
      "cell_type": "code",
      "metadata": {
        "colab": {
          "base_uri": "https://localhost:8080/"
        },
        "id": "JxzE0-Jp8nm7",
        "outputId": "55f746f9-04d5-4fc0-81cf-0d6b292caacd"
      },
      "source": [
        "df.isna().sum()"
      ],
      "execution_count": 29,
      "outputs": [
        {
          "output_type": "execute_result",
          "data": {
            "text/plain": [
              "Symbol                   0\n",
              "Series                   0\n",
              "Prev Close               0\n",
              "Open                     0\n",
              "High                     0\n",
              "Low                      0\n",
              "Last                     0\n",
              "Close                    0\n",
              "VWAP                     0\n",
              "Volume                   0\n",
              "Turnover                 0\n",
              "Trades                2779\n",
              "Deliverable Volume     446\n",
              "%Deliverble            446\n",
              "dtype: int64"
            ]
          },
          "metadata": {
            "tags": []
          },
          "execution_count": 29
        }
      ]
    },
    {
      "cell_type": "markdown",
      "metadata": {
        "id": "RPSzgJrx9FSp"
      },
      "source": [
        "**Here we can see, the columns \"Trades\" have 2779 blank data cell. Column 'Deliverable Volume' and '%Deliverable' have 446 blank data cells each.** \n",
        "\n",
        "**In such situations, we can either drop those empty data samples entirely, or we can impute those blank data samples using imputer function and its various strategies like 'Mean', 'Median', etc.**"
      ]
    },
    {
      "cell_type": "markdown",
      "metadata": {
        "id": "lNLgPtwuGDZU"
      },
      "source": [
        "**But to impute the data, we have to separate the Numeric columns from the Categorical columns.**"
      ]
    },
    {
      "cell_type": "code",
      "metadata": {
        "id": "vOKkIPBW-jPa"
      },
      "source": [
        "import numpy as np"
      ],
      "execution_count": 30,
      "outputs": []
    },
    {
      "cell_type": "code",
      "metadata": {
        "id": "pwdRIwGd-fLb"
      },
      "source": [
        "numeric_cols = df.select_dtypes(include=['int64', 'float64']).columns.tolist()"
      ],
      "execution_count": 31,
      "outputs": []
    },
    {
      "cell_type": "code",
      "metadata": {
        "id": "3jqW0Gh3-hgi"
      },
      "source": [
        "categorical_cols = df.select_dtypes(include=['object']).columns.tolist()"
      ],
      "execution_count": 32,
      "outputs": []
    },
    {
      "cell_type": "markdown",
      "metadata": {
        "id": "J_hnhYEHGOVH"
      },
      "source": [
        "**I'm choosing to use 'Mean' strategy to impute the numeric data**"
      ]
    },
    {
      "cell_type": "code",
      "metadata": {
        "id": "uZS4ZC2x9D-4"
      },
      "source": [
        "from sklearn.impute import SimpleImputer\n",
        "\n",
        "imputer = SimpleImputer(strategy='mean')\n",
        "\n",
        "imputer.fit(df[numeric_cols])\n",
        "\n",
        "df[numeric_cols] = imputer.transform(df[numeric_cols])"
      ],
      "execution_count": 33,
      "outputs": []
    },
    {
      "cell_type": "markdown",
      "metadata": {
        "id": "gl66oTMBGkc1"
      },
      "source": [
        "**As you can see below, after  imputation there's no blank data values in the sample**"
      ]
    },
    {
      "cell_type": "code",
      "metadata": {
        "colab": {
          "base_uri": "https://localhost:8080/"
        },
        "id": "emFsShA3-MYz",
        "outputId": "ac34bfd5-562f-4e75-86ee-f74a2a138dc8"
      },
      "source": [
        "df[numeric_cols].isna().sum()"
      ],
      "execution_count": 34,
      "outputs": [
        {
          "output_type": "execute_result",
          "data": {
            "text/plain": [
              "Prev Close            0\n",
              "Open                  0\n",
              "High                  0\n",
              "Low                   0\n",
              "Last                  0\n",
              "Close                 0\n",
              "VWAP                  0\n",
              "Volume                0\n",
              "Turnover              0\n",
              "Trades                0\n",
              "Deliverable Volume    0\n",
              "%Deliverble           0\n",
              "dtype: int64"
            ]
          },
          "metadata": {
            "tags": []
          },
          "execution_count": 34
        }
      ]
    },
    {
      "cell_type": "markdown",
      "metadata": {
        "id": "x5uwZtWMJpum"
      },
      "source": [
        "**Let's merge the numeric columns and categorical columns in the dataframe again**"
      ]
    },
    {
      "cell_type": "code",
      "metadata": {
        "id": "uVsWoMeLA6zD"
      },
      "source": [
        "df = df[numeric_cols + categorical_cols]"
      ],
      "execution_count": 35,
      "outputs": []
    },
    {
      "cell_type": "code",
      "metadata": {
        "colab": {
          "base_uri": "https://localhost:8080/",
          "height": 228
        },
        "id": "GsETm2_-BCla",
        "outputId": "c6dfd841-42fe-46b8-e984-d4cb164baa5a"
      },
      "source": [
        "df.head()"
      ],
      "execution_count": 36,
      "outputs": [
        {
          "output_type": "execute_result",
          "data": {
            "text/html": [
              "<div>\n",
              "<style scoped>\n",
              "    .dataframe tbody tr th:only-of-type {\n",
              "        vertical-align: middle;\n",
              "    }\n",
              "\n",
              "    .dataframe tbody tr th {\n",
              "        vertical-align: top;\n",
              "    }\n",
              "\n",
              "    .dataframe thead th {\n",
              "        text-align: right;\n",
              "    }\n",
              "</style>\n",
              "<table border=\"1\" class=\"dataframe\">\n",
              "  <thead>\n",
              "    <tr style=\"text-align: right;\">\n",
              "      <th></th>\n",
              "      <th>Prev Close</th>\n",
              "      <th>Open</th>\n",
              "      <th>High</th>\n",
              "      <th>Low</th>\n",
              "      <th>Last</th>\n",
              "      <th>Close</th>\n",
              "      <th>VWAP</th>\n",
              "      <th>Volume</th>\n",
              "      <th>Turnover</th>\n",
              "      <th>Trades</th>\n",
              "      <th>Deliverable Volume</th>\n",
              "      <th>%Deliverble</th>\n",
              "      <th>Symbol</th>\n",
              "      <th>Series</th>\n",
              "    </tr>\n",
              "    <tr>\n",
              "      <th>Date</th>\n",
              "      <th></th>\n",
              "      <th></th>\n",
              "      <th></th>\n",
              "      <th></th>\n",
              "      <th></th>\n",
              "      <th></th>\n",
              "      <th></th>\n",
              "      <th></th>\n",
              "      <th></th>\n",
              "      <th></th>\n",
              "      <th></th>\n",
              "      <th></th>\n",
              "      <th></th>\n",
              "      <th></th>\n",
              "    </tr>\n",
              "  </thead>\n",
              "  <tbody>\n",
              "    <tr>\n",
              "      <th>2000-01-03</th>\n",
              "      <td>46.95</td>\n",
              "      <td>49.45</td>\n",
              "      <td>50.75</td>\n",
              "      <td>46.5</td>\n",
              "      <td>50.75</td>\n",
              "      <td>50.75</td>\n",
              "      <td>50.05</td>\n",
              "      <td>7600.0</td>\n",
              "      <td>3.803800e+10</td>\n",
              "      <td>47105.843736</td>\n",
              "      <td>141968.990484</td>\n",
              "      <td>0.643712</td>\n",
              "      <td>BAJAUTOFIN</td>\n",
              "      <td>EQ</td>\n",
              "    </tr>\n",
              "    <tr>\n",
              "      <th>2000-01-04</th>\n",
              "      <td>50.75</td>\n",
              "      <td>53.20</td>\n",
              "      <td>53.20</td>\n",
              "      <td>47.9</td>\n",
              "      <td>48.00</td>\n",
              "      <td>48.10</td>\n",
              "      <td>48.56</td>\n",
              "      <td>5000.0</td>\n",
              "      <td>2.428000e+10</td>\n",
              "      <td>47105.843736</td>\n",
              "      <td>141968.990484</td>\n",
              "      <td>0.643712</td>\n",
              "      <td>BAJAUTOFIN</td>\n",
              "      <td>EQ</td>\n",
              "    </tr>\n",
              "    <tr>\n",
              "      <th>2000-01-05</th>\n",
              "      <td>48.10</td>\n",
              "      <td>46.55</td>\n",
              "      <td>47.40</td>\n",
              "      <td>44.6</td>\n",
              "      <td>44.60</td>\n",
              "      <td>44.60</td>\n",
              "      <td>45.47</td>\n",
              "      <td>3500.0</td>\n",
              "      <td>1.591450e+10</td>\n",
              "      <td>47105.843736</td>\n",
              "      <td>141968.990484</td>\n",
              "      <td>0.643712</td>\n",
              "      <td>BAJAUTOFIN</td>\n",
              "      <td>EQ</td>\n",
              "    </tr>\n",
              "    <tr>\n",
              "      <th>2000-01-06</th>\n",
              "      <td>44.60</td>\n",
              "      <td>43.50</td>\n",
              "      <td>46.00</td>\n",
              "      <td>42.1</td>\n",
              "      <td>46.00</td>\n",
              "      <td>45.25</td>\n",
              "      <td>44.43</td>\n",
              "      <td>6200.0</td>\n",
              "      <td>2.754750e+10</td>\n",
              "      <td>47105.843736</td>\n",
              "      <td>141968.990484</td>\n",
              "      <td>0.643712</td>\n",
              "      <td>BAJAUTOFIN</td>\n",
              "      <td>EQ</td>\n",
              "    </tr>\n",
              "    <tr>\n",
              "      <th>2000-01-07</th>\n",
              "      <td>45.25</td>\n",
              "      <td>48.00</td>\n",
              "      <td>48.00</td>\n",
              "      <td>42.0</td>\n",
              "      <td>42.90</td>\n",
              "      <td>42.90</td>\n",
              "      <td>44.44</td>\n",
              "      <td>3500.0</td>\n",
              "      <td>1.555550e+10</td>\n",
              "      <td>47105.843736</td>\n",
              "      <td>141968.990484</td>\n",
              "      <td>0.643712</td>\n",
              "      <td>BAJAUTOFIN</td>\n",
              "      <td>EQ</td>\n",
              "    </tr>\n",
              "  </tbody>\n",
              "</table>\n",
              "</div>"
            ],
            "text/plain": [
              "            Prev Close   Open   High  ...  %Deliverble      Symbol  Series\n",
              "Date                                  ...                                 \n",
              "2000-01-03       46.95  49.45  50.75  ...     0.643712  BAJAUTOFIN      EQ\n",
              "2000-01-04       50.75  53.20  53.20  ...     0.643712  BAJAUTOFIN      EQ\n",
              "2000-01-05       48.10  46.55  47.40  ...     0.643712  BAJAUTOFIN      EQ\n",
              "2000-01-06       44.60  43.50  46.00  ...     0.643712  BAJAUTOFIN      EQ\n",
              "2000-01-07       45.25  48.00  48.00  ...     0.643712  BAJAUTOFIN      EQ\n",
              "\n",
              "[5 rows x 14 columns]"
            ]
          },
          "metadata": {
            "tags": []
          },
          "execution_count": 36
        }
      ]
    },
    {
      "cell_type": "markdown",
      "metadata": {
        "id": "QAaYEG5PKbNA"
      },
      "source": [
        "**Let's make a copy of the previous dataframe, so that we wont be making any changes in the original Dataframe.**"
      ]
    },
    {
      "cell_type": "code",
      "metadata": {
        "id": "GyQyyt4JBtQD"
      },
      "source": [
        "data=df.copy()"
      ],
      "execution_count": 40,
      "outputs": []
    },
    {
      "cell_type": "code",
      "metadata": {
        "id": "KKQMtfA7BXmk"
      },
      "source": [
        "lag_features=['High','Low','Volume','Turnover','Trades']\n",
        "window1=3\n",
        "window2=7"
      ],
      "execution_count": 41,
      "outputs": []
    },
    {
      "cell_type": "code",
      "metadata": {
        "id": "B21NH8DgBgo7"
      },
      "source": [
        "for feature in lag_features:\n",
        "    data[feature+'rolling_mean_3']=data[feature].rolling(window=window1).mean()\n",
        "    data[feature+'rolling_mean_7']=data[feature].rolling(window=window2).mean()"
      ],
      "execution_count": 42,
      "outputs": []
    },
    {
      "cell_type": "code",
      "metadata": {
        "id": "TawE-8uWBkjx"
      },
      "source": [
        "for feature in lag_features:\n",
        "    data[feature+'rolling_std_3']=data[feature].rolling(window=window1).std()\n",
        "    data[feature+'rolling_std_7']=data[feature].rolling(window=window2).std()"
      ],
      "execution_count": 43,
      "outputs": []
    },
    {
      "cell_type": "code",
      "metadata": {
        "colab": {
          "base_uri": "https://localhost:8080/",
          "height": 352
        },
        "id": "RKJ1KHUqBoEr",
        "outputId": "75b20033-bedd-459b-d545-9439ed8321cb"
      },
      "source": [
        "data.head()"
      ],
      "execution_count": 44,
      "outputs": [
        {
          "output_type": "execute_result",
          "data": {
            "text/html": [
              "<div>\n",
              "<style scoped>\n",
              "    .dataframe tbody tr th:only-of-type {\n",
              "        vertical-align: middle;\n",
              "    }\n",
              "\n",
              "    .dataframe tbody tr th {\n",
              "        vertical-align: top;\n",
              "    }\n",
              "\n",
              "    .dataframe thead th {\n",
              "        text-align: right;\n",
              "    }\n",
              "</style>\n",
              "<table border=\"1\" class=\"dataframe\">\n",
              "  <thead>\n",
              "    <tr style=\"text-align: right;\">\n",
              "      <th></th>\n",
              "      <th>Prev Close</th>\n",
              "      <th>Open</th>\n",
              "      <th>High</th>\n",
              "      <th>Low</th>\n",
              "      <th>Last</th>\n",
              "      <th>Close</th>\n",
              "      <th>VWAP</th>\n",
              "      <th>Volume</th>\n",
              "      <th>Turnover</th>\n",
              "      <th>Trades</th>\n",
              "      <th>Deliverable Volume</th>\n",
              "      <th>%Deliverble</th>\n",
              "      <th>Symbol</th>\n",
              "      <th>Series</th>\n",
              "      <th>Highrolling_mean_3</th>\n",
              "      <th>Highrolling_mean_7</th>\n",
              "      <th>Lowrolling_mean_3</th>\n",
              "      <th>Lowrolling_mean_7</th>\n",
              "      <th>Volumerolling_mean_3</th>\n",
              "      <th>Volumerolling_mean_7</th>\n",
              "      <th>Turnoverrolling_mean_3</th>\n",
              "      <th>Turnoverrolling_mean_7</th>\n",
              "      <th>Tradesrolling_mean_3</th>\n",
              "      <th>Tradesrolling_mean_7</th>\n",
              "      <th>Highrolling_std_3</th>\n",
              "      <th>Highrolling_std_7</th>\n",
              "      <th>Lowrolling_std_3</th>\n",
              "      <th>Lowrolling_std_7</th>\n",
              "      <th>Volumerolling_std_3</th>\n",
              "      <th>Volumerolling_std_7</th>\n",
              "      <th>Turnoverrolling_std_3</th>\n",
              "      <th>Turnoverrolling_std_7</th>\n",
              "      <th>Tradesrolling_std_3</th>\n",
              "      <th>Tradesrolling_std_7</th>\n",
              "    </tr>\n",
              "    <tr>\n",
              "      <th>Date</th>\n",
              "      <th></th>\n",
              "      <th></th>\n",
              "      <th></th>\n",
              "      <th></th>\n",
              "      <th></th>\n",
              "      <th></th>\n",
              "      <th></th>\n",
              "      <th></th>\n",
              "      <th></th>\n",
              "      <th></th>\n",
              "      <th></th>\n",
              "      <th></th>\n",
              "      <th></th>\n",
              "      <th></th>\n",
              "      <th></th>\n",
              "      <th></th>\n",
              "      <th></th>\n",
              "      <th></th>\n",
              "      <th></th>\n",
              "      <th></th>\n",
              "      <th></th>\n",
              "      <th></th>\n",
              "      <th></th>\n",
              "      <th></th>\n",
              "      <th></th>\n",
              "      <th></th>\n",
              "      <th></th>\n",
              "      <th></th>\n",
              "      <th></th>\n",
              "      <th></th>\n",
              "      <th></th>\n",
              "      <th></th>\n",
              "      <th></th>\n",
              "      <th></th>\n",
              "    </tr>\n",
              "  </thead>\n",
              "  <tbody>\n",
              "    <tr>\n",
              "      <th>2000-01-03</th>\n",
              "      <td>46.95</td>\n",
              "      <td>49.45</td>\n",
              "      <td>50.75</td>\n",
              "      <td>46.5</td>\n",
              "      <td>50.75</td>\n",
              "      <td>50.75</td>\n",
              "      <td>50.05</td>\n",
              "      <td>7600.0</td>\n",
              "      <td>3.803800e+10</td>\n",
              "      <td>47105.843736</td>\n",
              "      <td>141968.990484</td>\n",
              "      <td>0.643712</td>\n",
              "      <td>BAJAUTOFIN</td>\n",
              "      <td>EQ</td>\n",
              "      <td>NaN</td>\n",
              "      <td>NaN</td>\n",
              "      <td>NaN</td>\n",
              "      <td>NaN</td>\n",
              "      <td>NaN</td>\n",
              "      <td>NaN</td>\n",
              "      <td>NaN</td>\n",
              "      <td>NaN</td>\n",
              "      <td>NaN</td>\n",
              "      <td>NaN</td>\n",
              "      <td>NaN</td>\n",
              "      <td>NaN</td>\n",
              "      <td>NaN</td>\n",
              "      <td>NaN</td>\n",
              "      <td>NaN</td>\n",
              "      <td>NaN</td>\n",
              "      <td>NaN</td>\n",
              "      <td>NaN</td>\n",
              "      <td>NaN</td>\n",
              "      <td>NaN</td>\n",
              "    </tr>\n",
              "    <tr>\n",
              "      <th>2000-01-04</th>\n",
              "      <td>50.75</td>\n",
              "      <td>53.20</td>\n",
              "      <td>53.20</td>\n",
              "      <td>47.9</td>\n",
              "      <td>48.00</td>\n",
              "      <td>48.10</td>\n",
              "      <td>48.56</td>\n",
              "      <td>5000.0</td>\n",
              "      <td>2.428000e+10</td>\n",
              "      <td>47105.843736</td>\n",
              "      <td>141968.990484</td>\n",
              "      <td>0.643712</td>\n",
              "      <td>BAJAUTOFIN</td>\n",
              "      <td>EQ</td>\n",
              "      <td>NaN</td>\n",
              "      <td>NaN</td>\n",
              "      <td>NaN</td>\n",
              "      <td>NaN</td>\n",
              "      <td>NaN</td>\n",
              "      <td>NaN</td>\n",
              "      <td>NaN</td>\n",
              "      <td>NaN</td>\n",
              "      <td>NaN</td>\n",
              "      <td>NaN</td>\n",
              "      <td>NaN</td>\n",
              "      <td>NaN</td>\n",
              "      <td>NaN</td>\n",
              "      <td>NaN</td>\n",
              "      <td>NaN</td>\n",
              "      <td>NaN</td>\n",
              "      <td>NaN</td>\n",
              "      <td>NaN</td>\n",
              "      <td>NaN</td>\n",
              "      <td>NaN</td>\n",
              "    </tr>\n",
              "    <tr>\n",
              "      <th>2000-01-05</th>\n",
              "      <td>48.10</td>\n",
              "      <td>46.55</td>\n",
              "      <td>47.40</td>\n",
              "      <td>44.6</td>\n",
              "      <td>44.60</td>\n",
              "      <td>44.60</td>\n",
              "      <td>45.47</td>\n",
              "      <td>3500.0</td>\n",
              "      <td>1.591450e+10</td>\n",
              "      <td>47105.843736</td>\n",
              "      <td>141968.990484</td>\n",
              "      <td>0.643712</td>\n",
              "      <td>BAJAUTOFIN</td>\n",
              "      <td>EQ</td>\n",
              "      <td>50.450000</td>\n",
              "      <td>NaN</td>\n",
              "      <td>46.333333</td>\n",
              "      <td>NaN</td>\n",
              "      <td>5366.666667</td>\n",
              "      <td>NaN</td>\n",
              "      <td>2.607750e+10</td>\n",
              "      <td>NaN</td>\n",
              "      <td>47105.843736</td>\n",
              "      <td>NaN</td>\n",
              "      <td>2.911615</td>\n",
              "      <td>NaN</td>\n",
              "      <td>1.656301</td>\n",
              "      <td>NaN</td>\n",
              "      <td>2074.447718</td>\n",
              "      <td>NaN</td>\n",
              "      <td>1.117075e+10</td>\n",
              "      <td>NaN</td>\n",
              "      <td>0.0</td>\n",
              "      <td>NaN</td>\n",
              "    </tr>\n",
              "    <tr>\n",
              "      <th>2000-01-06</th>\n",
              "      <td>44.60</td>\n",
              "      <td>43.50</td>\n",
              "      <td>46.00</td>\n",
              "      <td>42.1</td>\n",
              "      <td>46.00</td>\n",
              "      <td>45.25</td>\n",
              "      <td>44.43</td>\n",
              "      <td>6200.0</td>\n",
              "      <td>2.754750e+10</td>\n",
              "      <td>47105.843736</td>\n",
              "      <td>141968.990484</td>\n",
              "      <td>0.643712</td>\n",
              "      <td>BAJAUTOFIN</td>\n",
              "      <td>EQ</td>\n",
              "      <td>48.866667</td>\n",
              "      <td>NaN</td>\n",
              "      <td>44.866667</td>\n",
              "      <td>NaN</td>\n",
              "      <td>4900.000000</td>\n",
              "      <td>NaN</td>\n",
              "      <td>2.258067e+10</td>\n",
              "      <td>NaN</td>\n",
              "      <td>47105.843736</td>\n",
              "      <td>NaN</td>\n",
              "      <td>3.817504</td>\n",
              "      <td>NaN</td>\n",
              "      <td>2.909181</td>\n",
              "      <td>NaN</td>\n",
              "      <td>1352.774926</td>\n",
              "      <td>NaN</td>\n",
              "      <td>5.999789e+09</td>\n",
              "      <td>NaN</td>\n",
              "      <td>0.0</td>\n",
              "      <td>NaN</td>\n",
              "    </tr>\n",
              "    <tr>\n",
              "      <th>2000-01-07</th>\n",
              "      <td>45.25</td>\n",
              "      <td>48.00</td>\n",
              "      <td>48.00</td>\n",
              "      <td>42.0</td>\n",
              "      <td>42.90</td>\n",
              "      <td>42.90</td>\n",
              "      <td>44.44</td>\n",
              "      <td>3500.0</td>\n",
              "      <td>1.555550e+10</td>\n",
              "      <td>47105.843736</td>\n",
              "      <td>141968.990484</td>\n",
              "      <td>0.643712</td>\n",
              "      <td>BAJAUTOFIN</td>\n",
              "      <td>EQ</td>\n",
              "      <td>47.133333</td>\n",
              "      <td>NaN</td>\n",
              "      <td>42.900000</td>\n",
              "      <td>NaN</td>\n",
              "      <td>4400.000000</td>\n",
              "      <td>NaN</td>\n",
              "      <td>1.967250e+10</td>\n",
              "      <td>NaN</td>\n",
              "      <td>47105.843736</td>\n",
              "      <td>NaN</td>\n",
              "      <td>1.026320</td>\n",
              "      <td>NaN</td>\n",
              "      <td>1.473092</td>\n",
              "      <td>NaN</td>\n",
              "      <td>1558.845727</td>\n",
              "      <td>NaN</td>\n",
              "      <td>6.822312e+09</td>\n",
              "      <td>NaN</td>\n",
              "      <td>0.0</td>\n",
              "      <td>NaN</td>\n",
              "    </tr>\n",
              "  </tbody>\n",
              "</table>\n",
              "</div>"
            ],
            "text/plain": [
              "            Prev Close   Open  ...  Tradesrolling_std_3  Tradesrolling_std_7\n",
              "Date                           ...                                          \n",
              "2000-01-03       46.95  49.45  ...                  NaN                  NaN\n",
              "2000-01-04       50.75  53.20  ...                  NaN                  NaN\n",
              "2000-01-05       48.10  46.55  ...                  0.0                  NaN\n",
              "2000-01-06       44.60  43.50  ...                  0.0                  NaN\n",
              "2000-01-07       45.25  48.00  ...                  0.0                  NaN\n",
              "\n",
              "[5 rows x 34 columns]"
            ]
          },
          "metadata": {
            "tags": []
          },
          "execution_count": 44
        }
      ]
    },
    {
      "cell_type": "code",
      "metadata": {
        "colab": {
          "base_uri": "https://localhost:8080/"
        },
        "id": "YOJ7cRjWB_Ck",
        "outputId": "406f521d-0974-4b9a-ac80-0ead37b4abd5"
      },
      "source": [
        "data.columns"
      ],
      "execution_count": 45,
      "outputs": [
        {
          "output_type": "execute_result",
          "data": {
            "text/plain": [
              "Index(['Prev Close', 'Open', 'High', 'Low', 'Last', 'Close', 'VWAP', 'Volume',\n",
              "       'Turnover', 'Trades', 'Deliverable Volume', '%Deliverble', 'Symbol',\n",
              "       'Series', 'Highrolling_mean_3', 'Highrolling_mean_7',\n",
              "       'Lowrolling_mean_3', 'Lowrolling_mean_7', 'Volumerolling_mean_3',\n",
              "       'Volumerolling_mean_7', 'Turnoverrolling_mean_3',\n",
              "       'Turnoverrolling_mean_7', 'Tradesrolling_mean_3',\n",
              "       'Tradesrolling_mean_7', 'Highrolling_std_3', 'Highrolling_std_7',\n",
              "       'Lowrolling_std_3', 'Lowrolling_std_7', 'Volumerolling_std_3',\n",
              "       'Volumerolling_std_7', 'Turnoverrolling_std_3', 'Turnoverrolling_std_7',\n",
              "       'Tradesrolling_std_3', 'Tradesrolling_std_7'],\n",
              "      dtype='object')"
            ]
          },
          "metadata": {
            "tags": []
          },
          "execution_count": 45
        }
      ]
    },
    {
      "cell_type": "code",
      "metadata": {
        "colab": {
          "base_uri": "https://localhost:8080/"
        },
        "id": "KMOYDPT8CAsy",
        "outputId": "b78e3980-09d1-4542-bbed-4ec49a9061fc"
      },
      "source": [
        "data.shape"
      ],
      "execution_count": 46,
      "outputs": [
        {
          "output_type": "execute_result",
          "data": {
            "text/plain": [
              "(5070, 34)"
            ]
          },
          "metadata": {
            "tags": []
          },
          "execution_count": 46
        }
      ]
    },
    {
      "cell_type": "code",
      "metadata": {
        "colab": {
          "base_uri": "https://localhost:8080/"
        },
        "id": "s12r1GsyCCjq",
        "outputId": "6e3e6bbc-700b-4e72-880f-e499453b4520"
      },
      "source": [
        "data.isna().sum()"
      ],
      "execution_count": 47,
      "outputs": [
        {
          "output_type": "execute_result",
          "data": {
            "text/plain": [
              "Prev Close                0\n",
              "Open                      0\n",
              "High                      0\n",
              "Low                       0\n",
              "Last                      0\n",
              "Close                     0\n",
              "VWAP                      0\n",
              "Volume                    0\n",
              "Turnover                  0\n",
              "Trades                    0\n",
              "Deliverable Volume        0\n",
              "%Deliverble               0\n",
              "Symbol                    0\n",
              "Series                    0\n",
              "Highrolling_mean_3        2\n",
              "Highrolling_mean_7        6\n",
              "Lowrolling_mean_3         2\n",
              "Lowrolling_mean_7         6\n",
              "Volumerolling_mean_3      2\n",
              "Volumerolling_mean_7      6\n",
              "Turnoverrolling_mean_3    2\n",
              "Turnoverrolling_mean_7    6\n",
              "Tradesrolling_mean_3      2\n",
              "Tradesrolling_mean_7      6\n",
              "Highrolling_std_3         2\n",
              "Highrolling_std_7         6\n",
              "Lowrolling_std_3          2\n",
              "Lowrolling_std_7          6\n",
              "Volumerolling_std_3       2\n",
              "Volumerolling_std_7       6\n",
              "Turnoverrolling_std_3     2\n",
              "Turnoverrolling_std_7     6\n",
              "Tradesrolling_std_3       2\n",
              "Tradesrolling_std_7       6\n",
              "dtype: int64"
            ]
          },
          "metadata": {
            "tags": []
          },
          "execution_count": 47
        }
      ]
    },
    {
      "cell_type": "markdown",
      "metadata": {
        "id": "I2R95G4-RRyt"
      },
      "source": [
        "**As we see above, there are less numbers of blank data. We can now drop the data as there is more than enough data available here.**"
      ]
    },
    {
      "cell_type": "code",
      "metadata": {
        "id": "MUKwiLXlCH9q"
      },
      "source": [
        "data.dropna(inplace=True)"
      ],
      "execution_count": 48,
      "outputs": []
    },
    {
      "cell_type": "code",
      "metadata": {
        "colab": {
          "base_uri": "https://localhost:8080/"
        },
        "id": "v_mi0xfaCMfS",
        "outputId": "a2d7ac79-ff62-4b6f-c492-a4866cea4889"
      },
      "source": [
        "data.columns"
      ],
      "execution_count": 49,
      "outputs": [
        {
          "output_type": "execute_result",
          "data": {
            "text/plain": [
              "Index(['Prev Close', 'Open', 'High', 'Low', 'Last', 'Close', 'VWAP', 'Volume',\n",
              "       'Turnover', 'Trades', 'Deliverable Volume', '%Deliverble', 'Symbol',\n",
              "       'Series', 'Highrolling_mean_3', 'Highrolling_mean_7',\n",
              "       'Lowrolling_mean_3', 'Lowrolling_mean_7', 'Volumerolling_mean_3',\n",
              "       'Volumerolling_mean_7', 'Turnoverrolling_mean_3',\n",
              "       'Turnoverrolling_mean_7', 'Tradesrolling_mean_3',\n",
              "       'Tradesrolling_mean_7', 'Highrolling_std_3', 'Highrolling_std_7',\n",
              "       'Lowrolling_std_3', 'Lowrolling_std_7', 'Volumerolling_std_3',\n",
              "       'Volumerolling_std_7', 'Turnoverrolling_std_3', 'Turnoverrolling_std_7',\n",
              "       'Tradesrolling_std_3', 'Tradesrolling_std_7'],\n",
              "      dtype='object')"
            ]
          },
          "metadata": {
            "tags": []
          },
          "execution_count": 49
        }
      ]
    },
    {
      "cell_type": "code",
      "metadata": {
        "id": "zjemE4DICORC"
      },
      "source": [
        "ind_features=['Highrolling_mean_3', 'Highrolling_mean_7',\n",
        "       'Lowrolling_mean_3', 'Lowrolling_mean_7', 'Volumerolling_mean_3',\n",
        "       'Volumerolling_mean_7', 'Turnoverrolling_mean_3',\n",
        "       'Turnoverrolling_mean_7', 'Tradesrolling_mean_3',\n",
        "       'Tradesrolling_mean_7', 'Highrolling_std_3', 'Highrolling_std_7',\n",
        "       'Lowrolling_std_3', 'Lowrolling_std_7', 'Volumerolling_std_3',\n",
        "       'Volumerolling_std_7', 'Turnoverrolling_std_3', 'Turnoverrolling_std_7',\n",
        "       'Tradesrolling_std_3', 'Tradesrolling_std_7']"
      ],
      "execution_count": 50,
      "outputs": []
    },
    {
      "cell_type": "markdown",
      "metadata": {
        "id": "NjwHDfT0QGZa"
      },
      "source": [
        "**Now we have to split the data set into training and test data**"
      ]
    },
    {
      "cell_type": "code",
      "metadata": {
        "id": "OPZEjDtUCRur"
      },
      "source": [
        "training_data=data[0:3500]\n",
        "test_data=data[3500:]"
      ],
      "execution_count": 51,
      "outputs": []
    },
    {
      "cell_type": "code",
      "metadata": {
        "colab": {
          "base_uri": "https://localhost:8080/",
          "height": 647
        },
        "id": "_3T-fy9jCUMz",
        "outputId": "a89c37ef-2260-4c01-9587-17d2c2006bae"
      },
      "source": [
        "training_data"
      ],
      "execution_count": 52,
      "outputs": [
        {
          "output_type": "execute_result",
          "data": {
            "text/html": [
              "<div>\n",
              "<style scoped>\n",
              "    .dataframe tbody tr th:only-of-type {\n",
              "        vertical-align: middle;\n",
              "    }\n",
              "\n",
              "    .dataframe tbody tr th {\n",
              "        vertical-align: top;\n",
              "    }\n",
              "\n",
              "    .dataframe thead th {\n",
              "        text-align: right;\n",
              "    }\n",
              "</style>\n",
              "<table border=\"1\" class=\"dataframe\">\n",
              "  <thead>\n",
              "    <tr style=\"text-align: right;\">\n",
              "      <th></th>\n",
              "      <th>Prev Close</th>\n",
              "      <th>Open</th>\n",
              "      <th>High</th>\n",
              "      <th>Low</th>\n",
              "      <th>Last</th>\n",
              "      <th>Close</th>\n",
              "      <th>VWAP</th>\n",
              "      <th>Volume</th>\n",
              "      <th>Turnover</th>\n",
              "      <th>Trades</th>\n",
              "      <th>Deliverable Volume</th>\n",
              "      <th>%Deliverble</th>\n",
              "      <th>Symbol</th>\n",
              "      <th>Series</th>\n",
              "      <th>Highrolling_mean_3</th>\n",
              "      <th>Highrolling_mean_7</th>\n",
              "      <th>Lowrolling_mean_3</th>\n",
              "      <th>Lowrolling_mean_7</th>\n",
              "      <th>Volumerolling_mean_3</th>\n",
              "      <th>Volumerolling_mean_7</th>\n",
              "      <th>Turnoverrolling_mean_3</th>\n",
              "      <th>Turnoverrolling_mean_7</th>\n",
              "      <th>Tradesrolling_mean_3</th>\n",
              "      <th>Tradesrolling_mean_7</th>\n",
              "      <th>Highrolling_std_3</th>\n",
              "      <th>Highrolling_std_7</th>\n",
              "      <th>Lowrolling_std_3</th>\n",
              "      <th>Lowrolling_std_7</th>\n",
              "      <th>Volumerolling_std_3</th>\n",
              "      <th>Volumerolling_std_7</th>\n",
              "      <th>Turnoverrolling_std_3</th>\n",
              "      <th>Turnoverrolling_std_7</th>\n",
              "      <th>Tradesrolling_std_3</th>\n",
              "      <th>Tradesrolling_std_7</th>\n",
              "    </tr>\n",
              "    <tr>\n",
              "      <th>Date</th>\n",
              "      <th></th>\n",
              "      <th></th>\n",
              "      <th></th>\n",
              "      <th></th>\n",
              "      <th></th>\n",
              "      <th></th>\n",
              "      <th></th>\n",
              "      <th></th>\n",
              "      <th></th>\n",
              "      <th></th>\n",
              "      <th></th>\n",
              "      <th></th>\n",
              "      <th></th>\n",
              "      <th></th>\n",
              "      <th></th>\n",
              "      <th></th>\n",
              "      <th></th>\n",
              "      <th></th>\n",
              "      <th></th>\n",
              "      <th></th>\n",
              "      <th></th>\n",
              "      <th></th>\n",
              "      <th></th>\n",
              "      <th></th>\n",
              "      <th></th>\n",
              "      <th></th>\n",
              "      <th></th>\n",
              "      <th></th>\n",
              "      <th></th>\n",
              "      <th></th>\n",
              "      <th></th>\n",
              "      <th></th>\n",
              "      <th></th>\n",
              "      <th></th>\n",
              "    </tr>\n",
              "  </thead>\n",
              "  <tbody>\n",
              "    <tr>\n",
              "      <th>2000-01-11</th>\n",
              "      <td>42.90</td>\n",
              "      <td>42.00</td>\n",
              "      <td>42.00</td>\n",
              "      <td>39.50</td>\n",
              "      <td>40.25</td>\n",
              "      <td>40.10</td>\n",
              "      <td>40.25</td>\n",
              "      <td>5500.0</td>\n",
              "      <td>2.213900e+10</td>\n",
              "      <td>47105.843736</td>\n",
              "      <td>141968.990484</td>\n",
              "      <td>0.643712</td>\n",
              "      <td>BAJAUTOFIN</td>\n",
              "      <td>EQ</td>\n",
              "      <td>44.966667</td>\n",
              "      <td>47.464286</td>\n",
              "      <td>40.833333</td>\n",
              "      <td>43.371429</td>\n",
              "      <td>4566.666667</td>\n",
              "      <td>5142.857143</td>\n",
              "      <td>1.921850e+10</td>\n",
              "      <td>2.334793e+10</td>\n",
              "      <td>47105.843736</td>\n",
              "      <td>47105.843736</td>\n",
              "      <td>3.000556</td>\n",
              "      <td>3.709528</td>\n",
              "      <td>1.258306</td>\n",
              "      <td>3.052712</td>\n",
              "      <td>1006.644591</td>\n",
              "      <td>1466.125441</td>\n",
              "      <td>3.353967e+09</td>\n",
              "      <td>7.780466e+09</td>\n",
              "      <td>0.000000</td>\n",
              "      <td>0.000000</td>\n",
              "    </tr>\n",
              "    <tr>\n",
              "      <th>2000-01-12</th>\n",
              "      <td>40.10</td>\n",
              "      <td>40.00</td>\n",
              "      <td>40.00</td>\n",
              "      <td>39.00</td>\n",
              "      <td>39.00</td>\n",
              "      <td>39.00</td>\n",
              "      <td>39.80</td>\n",
              "      <td>1000.0</td>\n",
              "      <td>3.980000e+09</td>\n",
              "      <td>47105.843736</td>\n",
              "      <td>141968.990484</td>\n",
              "      <td>0.643712</td>\n",
              "      <td>BAJAUTOFIN</td>\n",
              "      <td>EQ</td>\n",
              "      <td>42.300000</td>\n",
              "      <td>45.928571</td>\n",
              "      <td>39.833333</td>\n",
              "      <td>42.300000</td>\n",
              "      <td>3733.333333</td>\n",
              "      <td>4200.000000</td>\n",
              "      <td>1.536000e+10</td>\n",
              "      <td>1.848250e+10</td>\n",
              "      <td>47105.843736</td>\n",
              "      <td>47105.843736</td>\n",
              "      <td>2.463737</td>\n",
              "      <td>4.300664</td>\n",
              "      <td>1.040833</td>\n",
              "      <td>3.087610</td>\n",
              "      <td>2400.694344</td>\n",
              "      <td>1722.401424</td>\n",
              "      <td>9.915353e+09</td>\n",
              "      <td>7.711740e+09</td>\n",
              "      <td>0.000000</td>\n",
              "      <td>0.000000</td>\n",
              "    </tr>\n",
              "    <tr>\n",
              "      <th>2000-01-13</th>\n",
              "      <td>39.00</td>\n",
              "      <td>40.00</td>\n",
              "      <td>41.00</td>\n",
              "      <td>38.50</td>\n",
              "      <td>39.50</td>\n",
              "      <td>39.50</td>\n",
              "      <td>39.37</td>\n",
              "      <td>1000.0</td>\n",
              "      <td>3.937000e+09</td>\n",
              "      <td>47105.843736</td>\n",
              "      <td>141968.990484</td>\n",
              "      <td>0.643712</td>\n",
              "      <td>BAJAUTOFIN</td>\n",
              "      <td>EQ</td>\n",
              "      <td>41.000000</td>\n",
              "      <td>44.185714</td>\n",
              "      <td>39.000000</td>\n",
              "      <td>40.957143</td>\n",
              "      <td>2500.000000</td>\n",
              "      <td>3628.571429</td>\n",
              "      <td>1.001867e+10</td>\n",
              "      <td>1.557636e+10</td>\n",
              "      <td>47105.843736</td>\n",
              "      <td>47105.843736</td>\n",
              "      <td>1.000000</td>\n",
              "      <td>3.191880</td>\n",
              "      <td>0.500000</td>\n",
              "      <td>2.146980</td>\n",
              "      <td>2598.076211</td>\n",
              "      <td>2045.901827</td>\n",
              "      <td>1.049654e+10</td>\n",
              "      <td>8.903806e+09</td>\n",
              "      <td>0.000000</td>\n",
              "      <td>0.000000</td>\n",
              "    </tr>\n",
              "    <tr>\n",
              "      <th>2000-01-14</th>\n",
              "      <td>39.50</td>\n",
              "      <td>39.00</td>\n",
              "      <td>40.50</td>\n",
              "      <td>39.00</td>\n",
              "      <td>39.90</td>\n",
              "      <td>39.90</td>\n",
              "      <td>39.72</td>\n",
              "      <td>1700.0</td>\n",
              "      <td>6.752000e+09</td>\n",
              "      <td>47105.843736</td>\n",
              "      <td>141968.990484</td>\n",
              "      <td>0.643712</td>\n",
              "      <td>BAJAUTOFIN</td>\n",
              "      <td>EQ</td>\n",
              "      <td>40.500000</td>\n",
              "      <td>43.200000</td>\n",
              "      <td>38.833333</td>\n",
              "      <td>40.157143</td>\n",
              "      <td>1233.333333</td>\n",
              "      <td>3371.428571</td>\n",
              "      <td>4.889667e+09</td>\n",
              "      <td>1.426743e+10</td>\n",
              "      <td>47105.843736</td>\n",
              "      <td>47105.843736</td>\n",
              "      <td>0.500000</td>\n",
              "      <td>3.097849</td>\n",
              "      <td>0.288675</td>\n",
              "      <td>1.513117</td>\n",
              "      <td>404.145188</td>\n",
              "      <td>2173.870807</td>\n",
              "      <td>1.612971e+09</td>\n",
              "      <td>9.499372e+09</td>\n",
              "      <td>0.000000</td>\n",
              "      <td>0.000000</td>\n",
              "    </tr>\n",
              "    <tr>\n",
              "      <th>2000-01-17</th>\n",
              "      <td>39.90</td>\n",
              "      <td>39.05</td>\n",
              "      <td>41.00</td>\n",
              "      <td>38.40</td>\n",
              "      <td>39.20</td>\n",
              "      <td>39.20</td>\n",
              "      <td>39.84</td>\n",
              "      <td>3100.0</td>\n",
              "      <td>1.234950e+10</td>\n",
              "      <td>47105.843736</td>\n",
              "      <td>141968.990484</td>\n",
              "      <td>0.643712</td>\n",
              "      <td>BAJAUTOFIN</td>\n",
              "      <td>EQ</td>\n",
              "      <td>40.833333</td>\n",
              "      <td>42.485714</td>\n",
              "      <td>38.633333</td>\n",
              "      <td>39.628571</td>\n",
              "      <td>1933.333333</td>\n",
              "      <td>2928.571429</td>\n",
              "      <td>7.679500e+09</td>\n",
              "      <td>1.209629e+10</td>\n",
              "      <td>47105.843736</td>\n",
              "      <td>47105.843736</td>\n",
              "      <td>0.288675</td>\n",
              "      <td>2.915721</td>\n",
              "      <td>0.321455</td>\n",
              "      <td>1.359797</td>\n",
              "      <td>1069.267662</td>\n",
              "      <td>1782.053390</td>\n",
              "      <td>4.282258e+09</td>\n",
              "      <td>7.480525e+09</td>\n",
              "      <td>0.000000</td>\n",
              "      <td>0.000000</td>\n",
              "    </tr>\n",
              "    <tr>\n",
              "      <th>...</th>\n",
              "      <td>...</td>\n",
              "      <td>...</td>\n",
              "      <td>...</td>\n",
              "      <td>...</td>\n",
              "      <td>...</td>\n",
              "      <td>...</td>\n",
              "      <td>...</td>\n",
              "      <td>...</td>\n",
              "      <td>...</td>\n",
              "      <td>...</td>\n",
              "      <td>...</td>\n",
              "      <td>...</td>\n",
              "      <td>...</td>\n",
              "      <td>...</td>\n",
              "      <td>...</td>\n",
              "      <td>...</td>\n",
              "      <td>...</td>\n",
              "      <td>...</td>\n",
              "      <td>...</td>\n",
              "      <td>...</td>\n",
              "      <td>...</td>\n",
              "      <td>...</td>\n",
              "      <td>...</td>\n",
              "      <td>...</td>\n",
              "      <td>...</td>\n",
              "      <td>...</td>\n",
              "      <td>...</td>\n",
              "      <td>...</td>\n",
              "      <td>...</td>\n",
              "      <td>...</td>\n",
              "      <td>...</td>\n",
              "      <td>...</td>\n",
              "      <td>...</td>\n",
              "      <td>...</td>\n",
              "    </tr>\n",
              "    <tr>\n",
              "      <th>2014-04-23</th>\n",
              "      <td>1765.15</td>\n",
              "      <td>1766.05</td>\n",
              "      <td>1851.00</td>\n",
              "      <td>1766.00</td>\n",
              "      <td>1851.00</td>\n",
              "      <td>1826.75</td>\n",
              "      <td>1812.89</td>\n",
              "      <td>50048.0</td>\n",
              "      <td>9.073138e+12</td>\n",
              "      <td>2906.000000</td>\n",
              "      <td>38194.000000</td>\n",
              "      <td>0.763100</td>\n",
              "      <td>BAJFINANCE</td>\n",
              "      <td>EQ</td>\n",
              "      <td>1812.966667</td>\n",
              "      <td>1800.264286</td>\n",
              "      <td>1759.133333</td>\n",
              "      <td>1757.207143</td>\n",
              "      <td>95179.333333</td>\n",
              "      <td>70945.714286</td>\n",
              "      <td>1.693151e+13</td>\n",
              "      <td>1.260043e+13</td>\n",
              "      <td>2702.666667</td>\n",
              "      <td>2560.285714</td>\n",
              "      <td>33.470933</td>\n",
              "      <td>23.888887</td>\n",
              "      <td>6.087145</td>\n",
              "      <td>6.143589</td>\n",
              "      <td>61578.121052</td>\n",
              "      <td>51755.232292</td>\n",
              "      <td>1.081884e+13</td>\n",
              "      <td>9.150816e+12</td>\n",
              "      <td>507.527668</td>\n",
              "      <td>535.603620</td>\n",
              "    </tr>\n",
              "    <tr>\n",
              "      <th>2014-04-25</th>\n",
              "      <td>1826.75</td>\n",
              "      <td>1848.35</td>\n",
              "      <td>1848.35</td>\n",
              "      <td>1786.60</td>\n",
              "      <td>1814.50</td>\n",
              "      <td>1813.00</td>\n",
              "      <td>1807.89</td>\n",
              "      <td>22664.0</td>\n",
              "      <td>4.097405e+12</td>\n",
              "      <td>2873.000000</td>\n",
              "      <td>18291.000000</td>\n",
              "      <td>0.807100</td>\n",
              "      <td>BAJFINANCE</td>\n",
              "      <td>EQ</td>\n",
              "      <td>1829.116667</td>\n",
              "      <td>1806.457143</td>\n",
              "      <td>1769.000000</td>\n",
              "      <td>1761.007143</td>\n",
              "      <td>79347.000000</td>\n",
              "      <td>72186.857143</td>\n",
              "      <td>1.414715e+13</td>\n",
              "      <td>1.282912e+13</td>\n",
              "      <td>2634.666667</td>\n",
              "      <td>2493.857143</td>\n",
              "      <td>35.632721</td>\n",
              "      <td>30.125908</td>\n",
              "      <td>16.308280</td>\n",
              "      <td>12.790114</td>\n",
              "      <td>75710.957642</td>\n",
              "      <td>50243.435652</td>\n",
              "      <td>1.333175e+13</td>\n",
              "      <td>8.871975e+12</td>\n",
              "      <td>441.692578</td>\n",
              "      <td>444.088741</td>\n",
              "    </tr>\n",
              "    <tr>\n",
              "      <th>2014-04-28</th>\n",
              "      <td>1813.00</td>\n",
              "      <td>1839.30</td>\n",
              "      <td>1860.00</td>\n",
              "      <td>1802.00</td>\n",
              "      <td>1848.55</td>\n",
              "      <td>1856.80</td>\n",
              "      <td>1837.67</td>\n",
              "      <td>19005.0</td>\n",
              "      <td>3.492483e+12</td>\n",
              "      <td>1633.000000</td>\n",
              "      <td>14460.000000</td>\n",
              "      <td>0.760900</td>\n",
              "      <td>BAJFINANCE</td>\n",
              "      <td>EQ</td>\n",
              "      <td>1853.116667</td>\n",
              "      <td>1817.964286</td>\n",
              "      <td>1784.866667</td>\n",
              "      <td>1769.007143</td>\n",
              "      <td>30572.333333</td>\n",
              "      <td>72283.000000</td>\n",
              "      <td>5.554342e+12</td>\n",
              "      <td>1.286777e+13</td>\n",
              "      <td>2470.666667</td>\n",
              "      <td>2446.142857</td>\n",
              "      <td>6.106622</td>\n",
              "      <td>33.306590</td>\n",
              "      <td>18.062484</td>\n",
              "      <td>18.205870</td>\n",
              "      <td>16965.354825</td>\n",
              "      <td>50123.707870</td>\n",
              "      <td>3.062340e+12</td>\n",
              "      <td>8.823609e+12</td>\n",
              "      <td>725.628234</td>\n",
              "      <td>521.352225</td>\n",
              "    </tr>\n",
              "    <tr>\n",
              "      <th>2014-04-29</th>\n",
              "      <td>1856.80</td>\n",
              "      <td>1841.30</td>\n",
              "      <td>1878.90</td>\n",
              "      <td>1826.45</td>\n",
              "      <td>1874.20</td>\n",
              "      <td>1872.55</td>\n",
              "      <td>1853.80</td>\n",
              "      <td>29549.0</td>\n",
              "      <td>5.477785e+12</td>\n",
              "      <td>947.000000</td>\n",
              "      <td>27081.000000</td>\n",
              "      <td>0.916500</td>\n",
              "      <td>BAJFINANCE</td>\n",
              "      <td>EQ</td>\n",
              "      <td>1862.416667</td>\n",
              "      <td>1830.664286</td>\n",
              "      <td>1805.016667</td>\n",
              "      <td>1778.921429</td>\n",
              "      <td>23739.333333</td>\n",
              "      <td>63161.714286</td>\n",
              "      <td>4.355891e+12</td>\n",
              "      <td>1.128791e+13</td>\n",
              "      <td>1817.666667</td>\n",
              "      <td>2263.142857</td>\n",
              "      <td>15.417712</td>\n",
              "      <td>37.545758</td>\n",
              "      <td>20.095543</td>\n",
              "      <td>27.256129</td>\n",
              "      <td>5353.619368</td>\n",
              "      <td>51433.262751</td>\n",
              "      <td>1.017579e+12</td>\n",
              "      <td>9.044471e+12</td>\n",
              "      <td>976.189189</td>\n",
              "      <td>774.195158</td>\n",
              "    </tr>\n",
              "    <tr>\n",
              "      <th>2014-04-30</th>\n",
              "      <td>1872.55</td>\n",
              "      <td>1869.00</td>\n",
              "      <td>1889.90</td>\n",
              "      <td>1828.00</td>\n",
              "      <td>1862.80</td>\n",
              "      <td>1869.90</td>\n",
              "      <td>1872.73</td>\n",
              "      <td>47110.0</td>\n",
              "      <td>8.822445e+12</td>\n",
              "      <td>1167.000000</td>\n",
              "      <td>44902.000000</td>\n",
              "      <td>0.953100</td>\n",
              "      <td>BAJFINANCE</td>\n",
              "      <td>EQ</td>\n",
              "      <td>1876.266667</td>\n",
              "      <td>1845.150000</td>\n",
              "      <td>1818.816667</td>\n",
              "      <td>1788.635714</td>\n",
              "      <td>31888.000000</td>\n",
              "      <td>57695.142857</td>\n",
              "      <td>5.930905e+12</td>\n",
              "      <td>1.038352e+13</td>\n",
              "      <td>1249.000000</td>\n",
              "      <td>2104.000000</td>\n",
              "      <td>15.122941</td>\n",
              "      <td>38.123254</td>\n",
              "      <td>14.584267</td>\n",
              "      <td>31.218300</td>\n",
              "      <td>14197.744434</td>\n",
              "      <td>50707.136780</td>\n",
              "      <td>2.693717e+12</td>\n",
              "      <td>8.909057e+12</td>\n",
              "      <td>350.274178</td>\n",
              "      <td>877.514862</td>\n",
              "    </tr>\n",
              "  </tbody>\n",
              "</table>\n",
              "<p>3500 rows × 34 columns</p>\n",
              "</div>"
            ],
            "text/plain": [
              "            Prev Close     Open  ...  Tradesrolling_std_3  Tradesrolling_std_7\n",
              "Date                             ...                                          \n",
              "2000-01-11       42.90    42.00  ...             0.000000             0.000000\n",
              "2000-01-12       40.10    40.00  ...             0.000000             0.000000\n",
              "2000-01-13       39.00    40.00  ...             0.000000             0.000000\n",
              "2000-01-14       39.50    39.00  ...             0.000000             0.000000\n",
              "2000-01-17       39.90    39.05  ...             0.000000             0.000000\n",
              "...                ...      ...  ...                  ...                  ...\n",
              "2014-04-23     1765.15  1766.05  ...           507.527668           535.603620\n",
              "2014-04-25     1826.75  1848.35  ...           441.692578           444.088741\n",
              "2014-04-28     1813.00  1839.30  ...           725.628234           521.352225\n",
              "2014-04-29     1856.80  1841.30  ...           976.189189           774.195158\n",
              "2014-04-30     1872.55  1869.00  ...           350.274178           877.514862\n",
              "\n",
              "[3500 rows x 34 columns]"
            ]
          },
          "metadata": {
            "tags": []
          },
          "execution_count": 52
        }
      ]
    },
    {
      "cell_type": "code",
      "metadata": {
        "colab": {
          "base_uri": "https://localhost:8080/"
        },
        "id": "GtRpuQ-qCnWz",
        "outputId": "5485d051-d0e7-451e-cf49-126f8b23c654"
      },
      "source": [
        "!pip install pmdarima"
      ],
      "execution_count": 53,
      "outputs": [
        {
          "output_type": "stream",
          "text": [
            "Collecting pmdarima\n",
            "\u001b[?25l  Downloading https://files.pythonhosted.org/packages/f4/c2/2a94bce6bba1deac3c0b16dbb14f28de0b9035e3211919cae8448455aa65/pmdarima-1.8.2-cp37-cp37m-manylinux1_x86_64.whl (1.5MB)\n",
            "\u001b[K     |████████████████████████████████| 1.5MB 27.4MB/s \n",
            "\u001b[?25hRequirement already satisfied: pandas>=0.19 in /usr/local/lib/python3.7/dist-packages (from pmdarima) (1.1.5)\n",
            "Requirement already satisfied: joblib>=0.11 in /usr/local/lib/python3.7/dist-packages (from pmdarima) (1.0.1)\n",
            "Requirement already satisfied: scipy>=1.3.2 in /usr/local/lib/python3.7/dist-packages (from pmdarima) (1.4.1)\n",
            "Requirement already satisfied: urllib3 in /usr/local/lib/python3.7/dist-packages (from pmdarima) (1.24.3)\n",
            "Requirement already satisfied: numpy~=1.19.0 in /usr/local/lib/python3.7/dist-packages (from pmdarima) (1.19.5)\n",
            "Requirement already satisfied: Cython!=0.29.18,>=0.29 in /usr/local/lib/python3.7/dist-packages (from pmdarima) (0.29.23)\n",
            "Requirement already satisfied: setuptools!=50.0.0,>=38.6.0 in /usr/local/lib/python3.7/dist-packages (from pmdarima) (57.2.0)\n",
            "Collecting statsmodels!=0.12.0,>=0.11\n",
            "\u001b[?25l  Downloading https://files.pythonhosted.org/packages/da/69/8eef30a6237c54f3c0b524140e2975f4b1eea3489b45eb3339574fc8acee/statsmodels-0.12.2-cp37-cp37m-manylinux1_x86_64.whl (9.5MB)\n",
            "\u001b[K     |████████████████████████████████| 9.5MB 40.3MB/s \n",
            "\u001b[?25hRequirement already satisfied: scikit-learn>=0.22 in /usr/local/lib/python3.7/dist-packages (from pmdarima) (0.22.2.post1)\n",
            "Requirement already satisfied: python-dateutil>=2.7.3 in /usr/local/lib/python3.7/dist-packages (from pandas>=0.19->pmdarima) (2.8.1)\n",
            "Requirement already satisfied: pytz>=2017.2 in /usr/local/lib/python3.7/dist-packages (from pandas>=0.19->pmdarima) (2018.9)\n",
            "Requirement already satisfied: patsy>=0.5 in /usr/local/lib/python3.7/dist-packages (from statsmodels!=0.12.0,>=0.11->pmdarima) (0.5.1)\n",
            "Requirement already satisfied: six>=1.5 in /usr/local/lib/python3.7/dist-packages (from python-dateutil>=2.7.3->pandas>=0.19->pmdarima) (1.15.0)\n",
            "Installing collected packages: statsmodels, pmdarima\n",
            "  Found existing installation: statsmodels 0.10.2\n",
            "    Uninstalling statsmodels-0.10.2:\n",
            "      Successfully uninstalled statsmodels-0.10.2\n",
            "Successfully installed pmdarima-1.8.2 statsmodels-0.12.2\n"
          ],
          "name": "stdout"
        }
      ]
    },
    {
      "cell_type": "markdown",
      "metadata": {
        "id": "W1UInnafLD_G"
      },
      "source": [
        "**Let's import the auto_arima library from pmdarima.**"
      ]
    },
    {
      "cell_type": "code",
      "metadata": {
        "id": "TZCZxUgQCpvj"
      },
      "source": [
        "from pmdarima import auto_arima\n",
        "\n",
        "import warnings\n",
        "warnings.filterwarnings('ignore')"
      ],
      "execution_count": 54,
      "outputs": []
    },
    {
      "cell_type": "markdown",
      "metadata": {
        "id": "sLePWjVvUD87"
      },
      "source": [
        "**Let's create a best ARIMA model here**"
      ]
    },
    {
      "cell_type": "code",
      "metadata": {
        "colab": {
          "base_uri": "https://localhost:8080/"
        },
        "id": "0Qt-S-l5Ctrc",
        "outputId": "5fc5289d-0db6-4f28-b5af-c0fcd03eb9e9"
      },
      "source": [
        "model=auto_arima(y=training_data['VWAP'],exogenous=training_data[ind_features],trace=True)"
      ],
      "execution_count": 55,
      "outputs": [
        {
          "output_type": "stream",
          "text": [
            "Performing stepwise search to minimize aic\n",
            " ARIMA(2,0,2)(0,0,0)[0] intercept   : AIC=24332.673, Time=11.43 sec\n",
            " ARIMA(0,0,0)(0,0,0)[0] intercept   : AIC=25660.919, Time=6.09 sec\n",
            " ARIMA(1,0,0)(0,0,0)[0] intercept   : AIC=24898.937, Time=6.34 sec\n",
            " ARIMA(0,0,1)(0,0,0)[0] intercept   : AIC=24529.359, Time=9.10 sec\n",
            " ARIMA(0,0,0)(0,0,0)[0]             : AIC=50721.736, Time=5.85 sec\n",
            " ARIMA(1,0,2)(0,0,0)[0] intercept   : AIC=24523.958, Time=10.50 sec\n",
            " ARIMA(2,0,1)(0,0,0)[0] intercept   : AIC=24355.273, Time=9.36 sec\n",
            " ARIMA(3,0,2)(0,0,0)[0] intercept   : AIC=24337.045, Time=11.80 sec\n",
            " ARIMA(2,0,3)(0,0,0)[0] intercept   : AIC=24330.220, Time=11.02 sec\n",
            " ARIMA(1,0,3)(0,0,0)[0] intercept   : AIC=24331.058, Time=11.19 sec\n",
            " ARIMA(3,0,3)(0,0,0)[0] intercept   : AIC=24327.841, Time=11.74 sec\n",
            " ARIMA(4,0,3)(0,0,0)[0] intercept   : AIC=24327.989, Time=13.09 sec\n",
            " ARIMA(3,0,4)(0,0,0)[0] intercept   : AIC=24327.236, Time=13.26 sec\n",
            " ARIMA(2,0,4)(0,0,0)[0] intercept   : AIC=24329.660, Time=13.24 sec\n",
            " ARIMA(4,0,4)(0,0,0)[0] intercept   : AIC=24329.401, Time=13.95 sec\n",
            " ARIMA(3,0,5)(0,0,0)[0] intercept   : AIC=24326.769, Time=15.29 sec\n",
            " ARIMA(2,0,5)(0,0,0)[0] intercept   : AIC=24325.855, Time=14.99 sec\n",
            " ARIMA(1,0,5)(0,0,0)[0] intercept   : AIC=24326.985, Time=13.58 sec\n",
            " ARIMA(1,0,4)(0,0,0)[0] intercept   : AIC=24332.518, Time=12.62 sec\n",
            " ARIMA(2,0,5)(0,0,0)[0]             : AIC=24323.859, Time=14.41 sec\n",
            " ARIMA(1,0,5)(0,0,0)[0]             : AIC=24324.991, Time=13.25 sec\n",
            " ARIMA(2,0,4)(0,0,0)[0]             : AIC=24327.658, Time=12.74 sec\n",
            " ARIMA(3,0,5)(0,0,0)[0]             : AIC=24324.774, Time=14.01 sec\n",
            " ARIMA(1,0,4)(0,0,0)[0]             : AIC=24330.522, Time=12.24 sec\n",
            " ARIMA(3,0,4)(0,0,0)[0]             : AIC=24325.241, Time=12.99 sec\n",
            "\n",
            "Best model:  ARIMA(2,0,5)(0,0,0)[0]          \n",
            "Total fit time: 294.179 seconds\n"
          ],
          "name": "stdout"
        }
      ]
    },
    {
      "cell_type": "code",
      "metadata": {
        "colab": {
          "base_uri": "https://localhost:8080/"
        },
        "id": "TojgwbRPCwkc",
        "outputId": "bf3c4c80-e672-48b6-df87-810e8c0483d1"
      },
      "source": [
        "model.fit(training_data['VWAP'],training_data[ind_features])"
      ],
      "execution_count": 56,
      "outputs": [
        {
          "output_type": "execute_result",
          "data": {
            "text/plain": [
              "ARIMA(maxiter=50, method='lbfgs', order=(2, 0, 5), out_of_sample_size=0,\n",
              "      scoring='mse', scoring_args={}, seasonal_order=(0, 0, 0, 0),\n",
              "      start_params=None, suppress_warnings=True, trend=None,\n",
              "      with_intercept=False)"
            ]
          },
          "metadata": {
            "tags": []
          },
          "execution_count": 56
        }
      ]
    },
    {
      "cell_type": "markdown",
      "metadata": {
        "id": "HBDXNC0MUS0H"
      },
      "source": [
        "**Here I'm using the previously created model to predict the forecast**"
      ]
    },
    {
      "cell_type": "code",
      "metadata": {
        "id": "VwZWETL-CybE"
      },
      "source": [
        "forecast=model.predict(n_periods=len(test_data), exogenous=test_data[ind_features])"
      ],
      "execution_count": 57,
      "outputs": []
    },
    {
      "cell_type": "code",
      "metadata": {
        "id": "N4tRB1_eC0KN"
      },
      "source": [
        "test_data['Forecast_ARIMA']=forecast"
      ],
      "execution_count": 58,
      "outputs": []
    },
    {
      "cell_type": "markdown",
      "metadata": {
        "id": "VgpkjJ0zUwzj"
      },
      "source": [
        "**Let's see the original values vs the predicted valued done by the model**"
      ]
    },
    {
      "cell_type": "code",
      "metadata": {
        "colab": {
          "base_uri": "https://localhost:8080/",
          "height": 461
        },
        "id": "fgRQ0mHeC18E",
        "outputId": "e432cb6a-da2b-4caf-b9dd-198afba39b1e"
      },
      "source": [
        "test_data[['VWAP','Forecast_ARIMA']].plot(figsize=(14,7))"
      ],
      "execution_count": 59,
      "outputs": [
        {
          "output_type": "execute_result",
          "data": {
            "text/plain": [
              "<matplotlib.axes._subplots.AxesSubplot at 0x7f99a032d550>"
            ]
          },
          "metadata": {
            "tags": []
          },
          "execution_count": 59
        },
        {
          "output_type": "display_data",
          "data": {
            "image/png": "[encoded data removed]",
            "text/plain": [
              "<Figure size 1008x504 with 1 Axes>"
            ]
          },
          "metadata": {
            "tags": [],
            "needs_background": "light"
          }
        }
      ]
    },
    {
      "cell_type": "code",
      "metadata": {
        "id": "-lw5SmPVC5AL"
      },
      "source": [
        "from sklearn.metrics import mean_absolute_error, mean_squared_error"
      ],
      "execution_count": 60,
      "outputs": []
    },
    {
      "cell_type": "code",
      "metadata": {
        "colab": {
          "base_uri": "https://localhost:8080/"
        },
        "id": "cCiNFb7UEl1n",
        "outputId": "3151ccd6-2279-49e3-c080-794f5e424390"
      },
      "source": [
        "np.sqrt(mean_squared_error(test_data['VWAP'],test_data['Forecast_ARIMA']))"
      ],
      "execution_count": 61,
      "outputs": [
        {
          "output_type": "execute_result",
          "data": {
            "text/plain": [
              "397.24358397832873"
            ]
          },
          "metadata": {
            "tags": []
          },
          "execution_count": 61
        }
      ]
    },
    {
      "cell_type": "code",
      "metadata": {
        "colab": {
          "base_uri": "https://localhost:8080/"
        },
        "id": "V5J_j1afEn88",
        "outputId": "357ed175-98eb-4109-d074-8b2b2cc4c7b5"
      },
      "source": [
        "mean_absolute_error(test_data['VWAP'],test_data['Forecast_ARIMA'])"
      ],
      "execution_count": 62,
      "outputs": [
        {
          "output_type": "execute_result",
          "data": {
            "text/plain": [
              "177.1468135420309"
            ]
          },
          "metadata": {
            "tags": []
          },
          "execution_count": 62
        }
      ]
    }
  ]
}